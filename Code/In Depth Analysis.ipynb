{
 "cells": [
  {
   "cell_type": "code",
   "execution_count": 63,
   "metadata": {},
   "outputs": [],
   "source": [
    "import pandas as pd\n",
    "import matplotlib.pyplot as plt\n",
    "import seaborn as sns\n",
    "sns.set()\n",
    "import numpy as np\n",
    "import statsmodels.api as sm\n",
    "from scipy.stats import normaltest\n",
    "from sklearn.preprocessing import StandardScaler\n",
    "from statsmodels.stats import weightstats as stests\n",
    "sns.set(style=\"whitegrid\", palette=\"pastel\", color_codes=True)\n",
    "from sklearn.model_selection import train_test_split\n",
    "from sklearn.tree import DecisionTreeClassifier\n",
    "from sklearn import metrics\n",
    "from sklearn.metrics import confusion_matrix\n",
    "from sklearn.metrics import f1_score\n",
    "from sklearn.model_selection import GridSearchCV\n",
    "import statsmodels.api as sm\n",
    "from sklearn.linear_model import LogisticRegression\n",
    "from sklearn.neighbors import KNeighborsClassifier"
   ]
  },
  {
   "cell_type": "code",
   "execution_count": 3,
   "metadata": {},
   "outputs": [],
   "source": [
    "df = pd.read_csv('../Data/spotify_cleaned.csv')"
   ]
  },
  {
   "cell_type": "code",
   "execution_count": 35,
   "metadata": {},
   "outputs": [],
   "source": [
    "df_original = pd.read_csv('../Data/spotify.csv')"
   ]
  },
  {
   "cell_type": "code",
   "execution_count": 4,
   "metadata": {},
   "outputs": [],
   "source": [
    "df.drop('Unnamed: 0',axis=1,inplace=True)"
   ]
  },
  {
   "cell_type": "code",
   "execution_count": 37,
   "metadata": {},
   "outputs": [],
   "source": [
    "df_original.drop('Unnamed: 0',axis=1,inplace=True)"
   ]
  },
  {
   "cell_type": "code",
   "execution_count": 5,
   "metadata": {
    "scrolled": false
   },
   "outputs": [
    {
     "data": {
      "text/html": [
       "<div>\n",
       "<style scoped>\n",
       "    .dataframe tbody tr th:only-of-type {\n",
       "        vertical-align: middle;\n",
       "    }\n",
       "\n",
       "    .dataframe tbody tr th {\n",
       "        vertical-align: top;\n",
       "    }\n",
       "\n",
       "    .dataframe thead th {\n",
       "        text-align: right;\n",
       "    }\n",
       "</style>\n",
       "<table border=\"1\" class=\"dataframe\">\n",
       "  <thead>\n",
       "    <tr style=\"text-align: right;\">\n",
       "      <th></th>\n",
       "      <th>danceability</th>\n",
       "      <th>duration_ms</th>\n",
       "      <th>energy</th>\n",
       "      <th>loudness</th>\n",
       "      <th>mode</th>\n",
       "      <th>target</th>\n",
       "      <th>tempo</th>\n",
       "      <th>valence</th>\n",
       "    </tr>\n",
       "  </thead>\n",
       "  <tbody>\n",
       "    <tr>\n",
       "      <th>0</th>\n",
       "      <td>0.706</td>\n",
       "      <td>225947</td>\n",
       "      <td>0.537</td>\n",
       "      <td>-6.347</td>\n",
       "      <td>1</td>\n",
       "      <td>1</td>\n",
       "      <td>203.746</td>\n",
       "      <td>0.775</td>\n",
       "    </tr>\n",
       "    <tr>\n",
       "      <th>1</th>\n",
       "      <td>0.652</td>\n",
       "      <td>249960</td>\n",
       "      <td>0.621</td>\n",
       "      <td>-8.677</td>\n",
       "      <td>0</td>\n",
       "      <td>1</td>\n",
       "      <td>169.983</td>\n",
       "      <td>0.661</td>\n",
       "    </tr>\n",
       "    <tr>\n",
       "      <th>2</th>\n",
       "      <td>0.609</td>\n",
       "      <td>228707</td>\n",
       "      <td>0.445</td>\n",
       "      <td>-9.129</td>\n",
       "      <td>1</td>\n",
       "      <td>1</td>\n",
       "      <td>118.393</td>\n",
       "      <td>0.166</td>\n",
       "    </tr>\n",
       "    <tr>\n",
       "      <th>3</th>\n",
       "      <td>0.593</td>\n",
       "      <td>273053</td>\n",
       "      <td>0.680</td>\n",
       "      <td>-5.556</td>\n",
       "      <td>1</td>\n",
       "      <td>1</td>\n",
       "      <td>84.547</td>\n",
       "      <td>0.483</td>\n",
       "    </tr>\n",
       "    <tr>\n",
       "      <th>4</th>\n",
       "      <td>0.783</td>\n",
       "      <td>229800</td>\n",
       "      <td>0.758</td>\n",
       "      <td>-2.663</td>\n",
       "      <td>0</td>\n",
       "      <td>1</td>\n",
       "      <td>89.434</td>\n",
       "      <td>0.780</td>\n",
       "    </tr>\n",
       "  </tbody>\n",
       "</table>\n",
       "</div>"
      ],
      "text/plain": [
       "   danceability  duration_ms  energy  loudness  mode  target    tempo  valence\n",
       "0         0.706       225947   0.537    -6.347     1       1  203.746    0.775\n",
       "1         0.652       249960   0.621    -8.677     0       1  169.983    0.661\n",
       "2         0.609       228707   0.445    -9.129     1       1  118.393    0.166\n",
       "3         0.593       273053   0.680    -5.556     1       1   84.547    0.483\n",
       "4         0.783       229800   0.758    -2.663     0       1   89.434    0.780"
      ]
     },
     "execution_count": 5,
     "metadata": {},
     "output_type": "execute_result"
    }
   ],
   "source": [
    "df.head()"
   ]
  },
  {
   "cell_type": "code",
   "execution_count": 38,
   "metadata": {
    "scrolled": true
   },
   "outputs": [
    {
     "data": {
      "text/html": [
       "<div>\n",
       "<style scoped>\n",
       "    .dataframe tbody tr th:only-of-type {\n",
       "        vertical-align: middle;\n",
       "    }\n",
       "\n",
       "    .dataframe tbody tr th {\n",
       "        vertical-align: top;\n",
       "    }\n",
       "\n",
       "    .dataframe thead th {\n",
       "        text-align: right;\n",
       "    }\n",
       "</style>\n",
       "<table border=\"1\" class=\"dataframe\">\n",
       "  <thead>\n",
       "    <tr style=\"text-align: right;\">\n",
       "      <th></th>\n",
       "      <th>acousticness</th>\n",
       "      <th>analysis_url</th>\n",
       "      <th>danceability</th>\n",
       "      <th>duration_ms</th>\n",
       "      <th>energy</th>\n",
       "      <th>id</th>\n",
       "      <th>instrumentalness</th>\n",
       "      <th>key</th>\n",
       "      <th>liveness</th>\n",
       "      <th>loudness</th>\n",
       "      <th>mode</th>\n",
       "      <th>speechiness</th>\n",
       "      <th>target</th>\n",
       "      <th>tempo</th>\n",
       "      <th>time_signature</th>\n",
       "      <th>track_href</th>\n",
       "      <th>type</th>\n",
       "      <th>uri</th>\n",
       "      <th>valence</th>\n",
       "    </tr>\n",
       "  </thead>\n",
       "  <tbody>\n",
       "    <tr>\n",
       "      <th>0</th>\n",
       "      <td>0.00887</td>\n",
       "      <td>https://api.spotify.com/v1/audio-analysis/6iaj...</td>\n",
       "      <td>0.706</td>\n",
       "      <td>225947</td>\n",
       "      <td>0.537</td>\n",
       "      <td>6iajHa34cSiD5s42Cq9miJ</td>\n",
       "      <td>0.000000</td>\n",
       "      <td>7</td>\n",
       "      <td>0.1290</td>\n",
       "      <td>-6.347</td>\n",
       "      <td>1</td>\n",
       "      <td>0.348</td>\n",
       "      <td>1</td>\n",
       "      <td>203.746</td>\n",
       "      <td>4</td>\n",
       "      <td>https://api.spotify.com/v1/tracks/6iajHa34cSiD...</td>\n",
       "      <td>audio_features</td>\n",
       "      <td>spotify:track:6iajHa34cSiD5s42Cq9miJ</td>\n",
       "      <td>0.775</td>\n",
       "    </tr>\n",
       "    <tr>\n",
       "      <th>1</th>\n",
       "      <td>0.10400</td>\n",
       "      <td>https://api.spotify.com/v1/audio-analysis/4oiA...</td>\n",
       "      <td>0.652</td>\n",
       "      <td>249960</td>\n",
       "      <td>0.621</td>\n",
       "      <td>4oiAlcisfimXQc1wyAtX9a</td>\n",
       "      <td>0.000005</td>\n",
       "      <td>9</td>\n",
       "      <td>0.0382</td>\n",
       "      <td>-8.677</td>\n",
       "      <td>0</td>\n",
       "      <td>0.263</td>\n",
       "      <td>1</td>\n",
       "      <td>169.983</td>\n",
       "      <td>4</td>\n",
       "      <td>https://api.spotify.com/v1/tracks/4oiAlcisfimX...</td>\n",
       "      <td>audio_features</td>\n",
       "      <td>spotify:track:4oiAlcisfimXQc1wyAtX9a</td>\n",
       "      <td>0.661</td>\n",
       "    </tr>\n",
       "    <tr>\n",
       "      <th>2</th>\n",
       "      <td>0.60300</td>\n",
       "      <td>https://api.spotify.com/v1/audio-analysis/3XVB...</td>\n",
       "      <td>0.609</td>\n",
       "      <td>228707</td>\n",
       "      <td>0.445</td>\n",
       "      <td>3XVBdLihbNbxUwZosxcGuJ</td>\n",
       "      <td>0.000007</td>\n",
       "      <td>7</td>\n",
       "      <td>0.1040</td>\n",
       "      <td>-9.129</td>\n",
       "      <td>1</td>\n",
       "      <td>0.106</td>\n",
       "      <td>1</td>\n",
       "      <td>118.393</td>\n",
       "      <td>3</td>\n",
       "      <td>https://api.spotify.com/v1/tracks/3XVBdLihbNbx...</td>\n",
       "      <td>audio_features</td>\n",
       "      <td>spotify:track:3XVBdLihbNbxUwZosxcGuJ</td>\n",
       "      <td>0.166</td>\n",
       "    </tr>\n",
       "    <tr>\n",
       "      <th>3</th>\n",
       "      <td>0.00182</td>\n",
       "      <td>https://api.spotify.com/v1/audio-analysis/0GLU...</td>\n",
       "      <td>0.593</td>\n",
       "      <td>273053</td>\n",
       "      <td>0.680</td>\n",
       "      <td>0GLUBbX4daHJkT3RQHEOia</td>\n",
       "      <td>0.000048</td>\n",
       "      <td>7</td>\n",
       "      <td>0.3100</td>\n",
       "      <td>-5.556</td>\n",
       "      <td>1</td>\n",
       "      <td>0.335</td>\n",
       "      <td>1</td>\n",
       "      <td>84.547</td>\n",
       "      <td>4</td>\n",
       "      <td>https://api.spotify.com/v1/tracks/0GLUBbX4daHJ...</td>\n",
       "      <td>audio_features</td>\n",
       "      <td>spotify:track:0GLUBbX4daHJkT3RQHEOia</td>\n",
       "      <td>0.483</td>\n",
       "    </tr>\n",
       "    <tr>\n",
       "      <th>4</th>\n",
       "      <td>0.38400</td>\n",
       "      <td>https://api.spotify.com/v1/audio-analysis/1yeL...</td>\n",
       "      <td>0.783</td>\n",
       "      <td>229800</td>\n",
       "      <td>0.758</td>\n",
       "      <td>1yeLSqz8u8ip9NnzjGs7lQ</td>\n",
       "      <td>0.000000</td>\n",
       "      <td>10</td>\n",
       "      <td>0.0938</td>\n",
       "      <td>-2.663</td>\n",
       "      <td>0</td>\n",
       "      <td>0.151</td>\n",
       "      <td>1</td>\n",
       "      <td>89.434</td>\n",
       "      <td>4</td>\n",
       "      <td>https://api.spotify.com/v1/tracks/1yeLSqz8u8ip...</td>\n",
       "      <td>audio_features</td>\n",
       "      <td>spotify:track:1yeLSqz8u8ip9NnzjGs7lQ</td>\n",
       "      <td>0.780</td>\n",
       "    </tr>\n",
       "  </tbody>\n",
       "</table>\n",
       "</div>"
      ],
      "text/plain": [
       "   acousticness                                       analysis_url  \\\n",
       "0       0.00887  https://api.spotify.com/v1/audio-analysis/6iaj...   \n",
       "1       0.10400  https://api.spotify.com/v1/audio-analysis/4oiA...   \n",
       "2       0.60300  https://api.spotify.com/v1/audio-analysis/3XVB...   \n",
       "3       0.00182  https://api.spotify.com/v1/audio-analysis/0GLU...   \n",
       "4       0.38400  https://api.spotify.com/v1/audio-analysis/1yeL...   \n",
       "\n",
       "   danceability  duration_ms  energy                      id  \\\n",
       "0         0.706       225947   0.537  6iajHa34cSiD5s42Cq9miJ   \n",
       "1         0.652       249960   0.621  4oiAlcisfimXQc1wyAtX9a   \n",
       "2         0.609       228707   0.445  3XVBdLihbNbxUwZosxcGuJ   \n",
       "3         0.593       273053   0.680  0GLUBbX4daHJkT3RQHEOia   \n",
       "4         0.783       229800   0.758  1yeLSqz8u8ip9NnzjGs7lQ   \n",
       "\n",
       "   instrumentalness  key  liveness  loudness  mode  speechiness  target  \\\n",
       "0          0.000000    7    0.1290    -6.347     1        0.348       1   \n",
       "1          0.000005    9    0.0382    -8.677     0        0.263       1   \n",
       "2          0.000007    7    0.1040    -9.129     1        0.106       1   \n",
       "3          0.000048    7    0.3100    -5.556     1        0.335       1   \n",
       "4          0.000000   10    0.0938    -2.663     0        0.151       1   \n",
       "\n",
       "     tempo  time_signature                                         track_href  \\\n",
       "0  203.746               4  https://api.spotify.com/v1/tracks/6iajHa34cSiD...   \n",
       "1  169.983               4  https://api.spotify.com/v1/tracks/4oiAlcisfimX...   \n",
       "2  118.393               3  https://api.spotify.com/v1/tracks/3XVBdLihbNbx...   \n",
       "3   84.547               4  https://api.spotify.com/v1/tracks/0GLUBbX4daHJ...   \n",
       "4   89.434               4  https://api.spotify.com/v1/tracks/1yeLSqz8u8ip...   \n",
       "\n",
       "             type                                   uri  valence  \n",
       "0  audio_features  spotify:track:6iajHa34cSiD5s42Cq9miJ    0.775  \n",
       "1  audio_features  spotify:track:4oiAlcisfimXQc1wyAtX9a    0.661  \n",
       "2  audio_features  spotify:track:3XVBdLihbNbxUwZosxcGuJ    0.166  \n",
       "3  audio_features  spotify:track:0GLUBbX4daHJkT3RQHEOia    0.483  \n",
       "4  audio_features  spotify:track:1yeLSqz8u8ip9NnzjGs7lQ    0.780  "
      ]
     },
     "execution_count": 38,
     "metadata": {},
     "output_type": "execute_result"
    }
   ],
   "source": [
    "df_original.head()"
   ]
  },
  {
   "cell_type": "code",
   "execution_count": 39,
   "metadata": {},
   "outputs": [],
   "source": [
    "df_original.drop(['analysis_url','id','track_href','type','uri'],axis=1,inplace=True)"
   ]
  },
  {
   "cell_type": "code",
   "execution_count": 9,
   "metadata": {},
   "outputs": [
    {
     "data": {
      "text/plain": [
       "Index(['danceability', 'duration_ms', 'energy', 'loudness', 'mode', 'target',\n",
       "       'tempo', 'valence'],\n",
       "      dtype='object')"
      ]
     },
     "execution_count": 9,
     "metadata": {},
     "output_type": "execute_result"
    }
   ],
   "source": [
    "df.columns"
   ]
  },
  {
   "cell_type": "code",
   "execution_count": 40,
   "metadata": {},
   "outputs": [
    {
     "data": {
      "text/plain": [
       "Index(['acousticness', 'danceability', 'duration_ms', 'energy',\n",
       "       'instrumentalness', 'key', 'liveness', 'loudness', 'mode',\n",
       "       'speechiness', 'target', 'tempo', 'time_signature', 'valence'],\n",
       "      dtype='object')"
      ]
     },
     "execution_count": 40,
     "metadata": {},
     "output_type": "execute_result"
    }
   ],
   "source": [
    "df_original.columns"
   ]
  },
  {
   "cell_type": "code",
   "execution_count": 10,
   "metadata": {},
   "outputs": [],
   "source": [
    "#define features and target\n",
    "X = df[['danceability', 'duration_ms', 'energy', 'loudness', 'mode', 'tempo', 'valence']]\n",
    "y = df['target']\n",
    "\n",
    "#Split the data into x and y test and train sets \n",
    "X_train, X_test, y_train, y_test = train_test_split(X, y, test_size=0.2, random_state=1)"
   ]
  },
  {
   "cell_type": "markdown",
   "metadata": {},
   "source": [
    "# Decision Tree Classifier - Cleaned Data"
   ]
  },
  {
   "cell_type": "code",
   "execution_count": 15,
   "metadata": {},
   "outputs": [
    {
     "name": "stdout",
     "output_type": "stream",
     "text": [
      "Accuracy using Decision Tree:  29.7 %\n"
     ]
    }
   ],
   "source": [
    "c = DecisionTreeClassifier(min_samples_split=100)\n",
    "dt = c.fit(X_train, y_train)\n",
    "y_pred = c.predict(X_test)\n",
    "score = metrics.accuracy_score(y_test, y_pred) * 100\n",
    "print(\"Accuracy using Decision Tree: \", round(score, 1), \"%\")"
   ]
  },
  {
   "cell_type": "code",
   "execution_count": 17,
   "metadata": {},
   "outputs": [
    {
     "name": "stdout",
     "output_type": "stream",
     "text": [
      "             precision    recall  f1-score   support\n",
      "\n",
      "          0       0.32      0.36      0.34       160\n",
      "          1       0.27      0.23      0.25       163\n",
      "\n",
      "avg / total       0.29      0.30      0.29       323\n",
      "\n"
     ]
    }
   ],
   "source": [
    "from sklearn.metrics import classification_report\n",
    "\n",
    "print(classification_report(y_test, y_pred))"
   ]
  },
  {
   "cell_type": "markdown",
   "metadata": {},
   "source": [
    "### ROC Evaluation"
   ]
  },
  {
   "cell_type": "code",
   "execution_count": 21,
   "metadata": {},
   "outputs": [],
   "source": [
    "from sklearn.metrics import roc_curve, auc\n",
    "import matplotlib.pyplot as plt"
   ]
  },
  {
   "cell_type": "code",
   "execution_count": 27,
   "metadata": {},
   "outputs": [
    {
     "data": {
      "image/png": "[encoded data removed]",
      "text/plain": [
       "<Figure size 432x288 with 1 Axes>"
      ]
     },
     "metadata": {},
     "output_type": "display_data"
    }
   ],
   "source": [
    "fpr = dict()\n",
    "tpr = dict()\n",
    "roc_auc = dict()\n",
    "for i in range(2):\n",
    "    fpr[i], tpr[i], _ = roc_curve(y_test, y_pred)\n",
    "    roc_auc[i] = auc(fpr[i], tpr[i])\n",
    "\n",
    "#print(roc_auc_score(y_test, y_pred))\n",
    "plt.figure()\n",
    "plt.plot(fpr[0], tpr[0])\n",
    "plt.plot([0, 1], [0, 1], 'k--')\n",
    "plt.xlim([0.0, 1.0])\n",
    "plt.ylim([0.0, 1.05])\n",
    "plt.xlabel('False Positive Rate')\n",
    "plt.ylabel('True Positive Rate')\n",
    "plt.title('Receiver operating characteristic')\n",
    "plt.show()"
   ]
  },
  {
   "cell_type": "markdown",
   "metadata": {},
   "source": [
    "## Confusion Matrix"
   ]
  },
  {
   "cell_type": "code",
   "execution_count": 29,
   "metadata": {},
   "outputs": [
    {
     "name": "stdout",
     "output_type": "stream",
     "text": [
      "[[ 58 102]\n",
      " [125  38]]\n"
     ]
    }
   ],
   "source": [
    "cm = confusion_matrix(y_test, y_pred)\n",
    "print(cm)"
   ]
  },
  {
   "cell_type": "code",
   "execution_count": 30,
   "metadata": {},
   "outputs": [],
   "source": [
    "df_cm = pd.DataFrame(cm, index=['0','1'],\n",
    "                  columns=['0','1'])"
   ]
  },
  {
   "cell_type": "code",
   "execution_count": 31,
   "metadata": {},
   "outputs": [
    {
     "data": {
      "text/plain": [
       "<matplotlib.axes._subplots.AxesSubplot at 0x10ec01d30>"
      ]
     },
     "execution_count": 31,
     "metadata": {},
     "output_type": "execute_result"
    },
    {
     "data": {
      "image/png": "[encoded data removed]",
      "text/plain": [
       "<Figure size 432x288 with 2 Axes>"
      ]
     },
     "metadata": {},
     "output_type": "display_data"
    }
   ],
   "source": [
    "#plt.figure(figsize = (10,7))\n",
    "sns.set(font_scale=1.4)#for label size\n",
    "sns.heatmap(df_cm, annot=True,annot_kws={\"size\": 16})# font size"
   ]
  },
  {
   "cell_type": "markdown",
   "metadata": {},
   "source": [
    "### Normalized Confusion Matrix"
   ]
  },
  {
   "cell_type": "code",
   "execution_count": 32,
   "metadata": {},
   "outputs": [],
   "source": [
    "cm = cm.astype('float') / cm.sum(axis=1)[:, np.newaxis]"
   ]
  },
  {
   "cell_type": "code",
   "execution_count": 33,
   "metadata": {},
   "outputs": [],
   "source": [
    "df_cm = pd.DataFrame(cm, index=['0','1'],\n",
    "                  columns=['0','1'])"
   ]
  },
  {
   "cell_type": "code",
   "execution_count": 34,
   "metadata": {},
   "outputs": [
    {
     "data": {
      "text/plain": [
       "<matplotlib.axes._subplots.AxesSubplot at 0x1157d5828>"
      ]
     },
     "execution_count": 34,
     "metadata": {},
     "output_type": "execute_result"
    },
    {
     "data": {
      "image/png": "[encoded data removed]",
      "text/plain": [
       "<Figure size 432x288 with 2 Axes>"
      ]
     },
     "metadata": {},
     "output_type": "display_data"
    }
   ],
   "source": [
    "sns.set(font_scale=1.4)#for label size\n",
    "sns.heatmap(df_cm, annot=True,annot_kws={\"size\": 16})"
   ]
  },
  {
   "cell_type": "markdown",
   "metadata": {},
   "source": [
    "## Parameter Tuning - CV Grid Search"
   ]
  },
  {
   "cell_type": "code",
   "execution_count": 42,
   "metadata": {},
   "outputs": [],
   "source": [
    "dt = DecisionTreeClassifier()"
   ]
  },
  {
   "cell_type": "code",
   "execution_count": 44,
   "metadata": {},
   "outputs": [
    {
     "data": {
      "text/plain": [
       "GridSearchCV(cv=5, error_score='raise',\n",
       "       estimator=DecisionTreeClassifier(class_weight=None, criterion='gini', max_depth=None,\n",
       "            max_features=None, max_leaf_nodes=None,\n",
       "            min_impurity_decrease=0.0, min_impurity_split=None,\n",
       "            min_samples_leaf=1, min_samples_split=2,\n",
       "            min_weight_fraction_leaf=0.0, presort=False, random_state=None,\n",
       "            splitter='best'),\n",
       "       fit_params=None, iid=True, n_jobs=1,\n",
       "       param_grid={'criterion': ['gini', 'entropy'], 'max_depth': array([ 1.,  2.,  3.,  4.,  5.,  6.,  7.,  8.,  9., 10., 11., 12., 13.,\n",
       "       14., 15., 16., 17., 18., 19., 20., 21., 22., 23., 24., 25., 26.,\n",
       "       27., 28., 29., 30., 31., 32.]), 'min_samples_split': array([0.1, 0.2, 0.3, 0.4, 0.5, 0.6, 0.7, 0.8, 0.9, 1. ]), 'min_samples_leaf': [0.001, 0.1, 1, 10, 100]},\n",
       "       pre_dispatch='2*n_jobs', refit=True, return_train_score='warn',\n",
       "       scoring='f1_micro', verbose=0)"
      ]
     },
     "execution_count": 44,
     "metadata": {},
     "output_type": "execute_result"
    }
   ],
   "source": [
    "# Setup the hyperparameter grid\n",
    "max_depths = np.linspace(1, 32, 32, endpoint=True)\n",
    "min_samples_splits = np.linspace(0.1, 1.0, 10, endpoint=True)\n",
    "min_samples_leaf = [0.001, 0.1, 1, 10, 100]\n",
    "criterion = ['gini','entropy']\n",
    "param_grid = {'criterion': criterion,'max_depth': max_depths,'min_samples_split': min_samples_splits, \n",
    "              'min_samples_leaf': min_samples_leaf}\n",
    "\n",
    "#combine parameters with model\n",
    "clf_model = GridSearchCV(dt,param_grid,scoring='f1_micro',cv=5)\n",
    "\n",
    "# Fit it to the data\n",
    "clf_model.fit(X_train, y_train)"
   ]
  },
  {
   "cell_type": "code",
   "execution_count": 45,
   "metadata": {},
   "outputs": [
    {
     "name": "stdout",
     "output_type": "stream",
     "text": [
      "Tuned Logistic Regression Parameters: {'criterion': 'gini', 'max_depth': 1.0, 'min_samples_leaf': 0.1, 'min_samples_split': 0.1}\n"
     ]
    }
   ],
   "source": [
    "# Print the tuned parameter and score\n",
    "print(\"Tuned Logistic Regression Parameters: {}\".format(clf_model.best_params_))"
   ]
  },
  {
   "cell_type": "code",
   "execution_count": 47,
   "metadata": {},
   "outputs": [
    {
     "name": "stdout",
     "output_type": "stream",
     "text": [
      "Accuracy using Decision Tree:  45.2 %\n",
      "             precision    recall  f1-score   support\n",
      "\n",
      "          0       0.41      0.25      0.31       160\n",
      "          1       0.47      0.65      0.54       163\n",
      "\n",
      "avg / total       0.44      0.45      0.43       323\n",
      "\n"
     ]
    }
   ],
   "source": [
    "y_pred = clf_model.predict(X_test)\n",
    "\n",
    "score = metrics.accuracy_score(y_test, y_pred) * 100\n",
    "print(\"Accuracy using Decision Tree: \", round(score, 1), \"%\")\n",
    "\n",
    "print(classification_report(y_test, y_pred))"
   ]
  },
  {
   "cell_type": "markdown",
   "metadata": {},
   "source": [
    "# Logistic Regression - Cleaned Data"
   ]
  },
  {
   "cell_type": "markdown",
   "metadata": {},
   "source": [
    "### Statsmodel"
   ]
  },
  {
   "cell_type": "code",
   "execution_count": 49,
   "metadata": {},
   "outputs": [],
   "source": [
    "lr = sm.Logit(y_train, X_train)"
   ]
  },
  {
   "cell_type": "code",
   "execution_count": 50,
   "metadata": {},
   "outputs": [
    {
     "name": "stdout",
     "output_type": "stream",
     "text": [
      "Optimization terminated successfully.\n",
      "         Current function value: 0.689908\n",
      "         Iterations 4\n"
     ]
    }
   ],
   "source": [
    "result = lr.fit()"
   ]
  },
  {
   "cell_type": "code",
   "execution_count": 51,
   "metadata": {
    "scrolled": true
   },
   "outputs": [
    {
     "name": "stdout",
     "output_type": "stream",
     "text": [
      "                           Logit Regression Results                           \n",
      "==============================================================================\n",
      "Dep. Variable:                 target   No. Observations:                 1291\n",
      "Model:                          Logit   Df Residuals:                     1284\n",
      "Method:                           MLE   Df Model:                            6\n",
      "Date:                Tue, 20 Aug 2019   Pseudo R-squ.:                0.003171\n",
      "Time:                        20:00:10   Log-Likelihood:                -890.67\n",
      "converged:                       True   LL-Null:                       -893.50\n",
      "                                        LLR p-value:                    0.4615\n",
      "================================================================================\n",
      "                   coef    std err          z      P>|z|      [0.025      0.975]\n",
      "--------------------------------------------------------------------------------\n",
      "danceability     0.5241      0.389      1.347      0.178      -0.238       1.286\n",
      "duration_ms   4.289e-07    1.2e-06      0.357      0.721   -1.93e-06    2.79e-06\n",
      "energy          -0.1287      0.365     -0.353      0.724      -0.843       0.586\n",
      "loudness         0.0029      0.031      0.093      0.926      -0.058       0.063\n",
      "mode             0.0355      0.113      0.315      0.753      -0.186       0.257\n",
      "tempo           -0.0023      0.002     -1.395      0.163      -0.006       0.001\n",
      "valence         -0.0187      0.329     -0.057      0.955      -0.663       0.626\n",
      "================================================================================\n"
     ]
    }
   ],
   "source": [
    "print(result.summary())"
   ]
  },
  {
   "cell_type": "markdown",
   "metadata": {},
   "source": [
    "### SK-Learn"
   ]
  },
  {
   "cell_type": "code",
   "execution_count": 53,
   "metadata": {},
   "outputs": [
    {
     "data": {
      "text/plain": [
       "LogisticRegression(C=1.0, class_weight=None, dual=False, fit_intercept=True,\n",
       "          intercept_scaling=1, max_iter=100, multi_class='ovr', n_jobs=1,\n",
       "          penalty='l2', random_state=None, solver='liblinear', tol=0.0001,\n",
       "          verbose=0, warm_start=False)"
      ]
     },
     "execution_count": 53,
     "metadata": {},
     "output_type": "execute_result"
    }
   ],
   "source": [
    "lr = LogisticRegression()\n",
    "lr.fit(X_train, y_train)"
   ]
  },
  {
   "cell_type": "code",
   "execution_count": 54,
   "metadata": {},
   "outputs": [
    {
     "name": "stdout",
     "output_type": "stream",
     "text": [
      "Accuracy of logistic regression classifier on test set: 0.49\n"
     ]
    }
   ],
   "source": [
    "y_pred = lr.predict(X_test)\n",
    "print('Accuracy of logistic regression classifier on test set: {:.2f}'.format(lr.score(X_test, y_test)))"
   ]
  },
  {
   "cell_type": "code",
   "execution_count": 55,
   "metadata": {
    "scrolled": true
   },
   "outputs": [
    {
     "name": "stdout",
     "output_type": "stream",
     "text": [
      "             precision    recall  f1-score   support\n",
      "\n",
      "          0       0.46      0.14      0.22       160\n",
      "          1       0.50      0.83      0.62       163\n",
      "\n",
      "avg / total       0.48      0.49      0.42       323\n",
      "\n"
     ]
    }
   ],
   "source": [
    "print(classification_report(y_test, y_pred))"
   ]
  },
  {
   "cell_type": "markdown",
   "metadata": {},
   "source": [
    "## Normalized Confusion Matrix"
   ]
  },
  {
   "cell_type": "code",
   "execution_count": 56,
   "metadata": {},
   "outputs": [
    {
     "data": {
      "text/plain": [
       "<matplotlib.axes._subplots.AxesSubplot at 0x1c182249e8>"
      ]
     },
     "execution_count": 56,
     "metadata": {},
     "output_type": "execute_result"
    },
    {
     "data": {
      "image/png": "[encoded data removed]",
      "text/plain": [
       "<Figure size 432x288 with 2 Axes>"
      ]
     },
     "metadata": {},
     "output_type": "display_data"
    }
   ],
   "source": [
    "cm = confusion_matrix(y_test, y_pred)\n",
    "cm = cm.astype('float') / cm.sum(axis=1)[:, np.newaxis]\n",
    "df_cm = pd.DataFrame(cm, index=['0','1'],\n",
    "                  columns=['0','1'])\n",
    "sns.set(font_scale=1.4)#for label size\n",
    "sns.heatmap(df_cm, annot=True,annot_kws={\"size\": 16})"
   ]
  },
  {
   "cell_type": "markdown",
   "metadata": {},
   "source": [
    "## Parameter Tuning - CV Grid Search\n"
   ]
  },
  {
   "cell_type": "code",
   "execution_count": 57,
   "metadata": {},
   "outputs": [],
   "source": [
    "lr = LogisticRegression()"
   ]
  },
  {
   "cell_type": "code",
   "execution_count": 58,
   "metadata": {},
   "outputs": [
    {
     "data": {
      "text/plain": [
       "GridSearchCV(cv=5, error_score='raise',\n",
       "       estimator=LogisticRegression(C=1.0, class_weight=None, dual=False, fit_intercept=True,\n",
       "          intercept_scaling=1, max_iter=100, multi_class='ovr', n_jobs=1,\n",
       "          penalty='l2', random_state=None, solver='liblinear', tol=0.0001,\n",
       "          verbose=0, warm_start=False),\n",
       "       fit_params=None, iid=True, n_jobs=1,\n",
       "       param_grid={'C': [0.001, 0.01, 0.1, 1, 10, 100], 'penalty': ['l1', 'l2']},\n",
       "       pre_dispatch='2*n_jobs', refit=True, return_train_score='warn',\n",
       "       scoring=None, verbose=0)"
      ]
     },
     "execution_count": 58,
     "metadata": {},
     "output_type": "execute_result"
    }
   ],
   "source": [
    "# Setup the hyperparameter grid\n",
    "c = [0.001,0.01,0.1,1,10,100]\n",
    "penalty = ['l1', 'l2']\n",
    "param_grid = {'C': c,'penalty': penalty}\n",
    "\n",
    "#combine parameters with model\n",
    "lr_model = GridSearchCV(lr,param_grid,cv=5)\n",
    "\n",
    "# Fit it to the data\n",
    "lr_model.fit(X_train, y_train)"
   ]
  },
  {
   "cell_type": "code",
   "execution_count": 60,
   "metadata": {},
   "outputs": [
    {
     "name": "stdout",
     "output_type": "stream",
     "text": [
      "Best Penalty: l2\n",
      "Best C: 0.001\n"
     ]
    }
   ],
   "source": [
    "print('Best Penalty:', lr_model.best_estimator_.get_params()['penalty'])\n",
    "print('Best C:', lr_model.best_estimator_.get_params()['C'])"
   ]
  },
  {
   "cell_type": "code",
   "execution_count": 62,
   "metadata": {},
   "outputs": [
    {
     "name": "stdout",
     "output_type": "stream",
     "text": [
      "Accuracy using Logistic Regression:  49.2 %\n",
      "             precision    recall  f1-score   support\n",
      "\n",
      "          0       0.46      0.14      0.22       160\n",
      "          1       0.50      0.83      0.62       163\n",
      "\n",
      "avg / total       0.48      0.49      0.42       323\n",
      "\n"
     ]
    }
   ],
   "source": [
    "y_pred = lr_model.predict(X_test)\n",
    "\n",
    "score = metrics.accuracy_score(y_test, y_pred) * 100\n",
    "print(\"Accuracy using Logistic Regression: \", round(score, 1), \"%\")\n",
    "\n",
    "print(classification_report(y_test, y_pred))"
   ]
  },
  {
   "cell_type": "markdown",
   "metadata": {},
   "source": [
    "# KNeighbors - Cleaned Data"
   ]
  },
  {
   "cell_type": "code",
   "execution_count": 75,
   "metadata": {},
   "outputs": [
    {
     "name": "stdout",
     "output_type": "stream",
     "text": [
      "Accuracy using Knn Tree:  21.1 %\n"
     ]
    }
   ],
   "source": [
    "knn = KNeighborsClassifier(3)\n",
    "knn.fit(X_train, y_train)\n",
    "y_pred = knn.predict(X_test)\n",
    "score = metrics.accuracy_score(y_test, y_pred) * 100\n",
    "print(\"Accuracy using Knn Tree: \", round(score, 1), \"%\")"
   ]
  },
  {
   "cell_type": "markdown",
   "metadata": {},
   "source": [
    "## Normalized Confusion Matrix"
   ]
  },
  {
   "cell_type": "code",
   "execution_count": 76,
   "metadata": {},
   "outputs": [
    {
     "data": {
      "text/plain": [
       "<matplotlib.axes._subplots.AxesSubplot at 0x10e936320>"
      ]
     },
     "execution_count": 76,
     "metadata": {},
     "output_type": "execute_result"
    },
    {
     "data": {
      "image/png": "[encoded data removed]",
      "text/plain": [
       "<Figure size 432x288 with 2 Axes>"
      ]
     },
     "metadata": {},
     "output_type": "display_data"
    }
   ],
   "source": [
    "cm = confusion_matrix(y_test, y_pred)\n",
    "cm = cm.astype('float') / cm.sum(axis=1)[:, np.newaxis]\n",
    "df_cm = pd.DataFrame(cm, index=['0','1'],\n",
    "                  columns=['0','1'])\n",
    "sns.set(font_scale=1.4)#for label size\n",
    "sns.heatmap(df_cm, annot=True,annot_kws={\"size\": 16})"
   ]
  },
  {
   "cell_type": "markdown",
   "metadata": {},
   "source": [
    "## Parameter Tuning - CV Grid Search"
   ]
  },
  {
   "cell_type": "code",
   "execution_count": 68,
   "metadata": {},
   "outputs": [],
   "source": [
    "knn = KNeighborsClassifier(3)"
   ]
  },
  {
   "cell_type": "code",
   "execution_count": 70,
   "metadata": {},
   "outputs": [
    {
     "data": {
      "text/plain": [
       "GridSearchCV(cv=5, error_score='raise',\n",
       "       estimator=KNeighborsClassifier(algorithm='auto', leaf_size=30, metric='minkowski',\n",
       "           metric_params=None, n_jobs=1, n_neighbors=3, p=2,\n",
       "           weights='uniform'),\n",
       "       fit_params=None, iid=True, n_jobs=1,\n",
       "       param_grid={'n_neighbors': [3, 5, 10], 'weights': ['uniform', 'distance'], 'algorithm': ['auto', 'ball_tree', 'kd_tree', 'brute']},\n",
       "       pre_dispatch='2*n_jobs', refit=True, return_train_score='warn',\n",
       "       scoring=None, verbose=0)"
      ]
     },
     "execution_count": 70,
     "metadata": {},
     "output_type": "execute_result"
    }
   ],
   "source": [
    "# Setup the hyperparameter grid\n",
    "n_neighbors = [3, 5, 10]\n",
    "weights = ['uniform', 'distance']\n",
    "algorithm = ['auto', 'ball_tree', 'kd_tree', 'brute']\n",
    "param_grid = {'n_neighbors': n_neighbors,'weights': weights, 'algorithm': algorithm}\n",
    "\n",
    "#combine parameters with model\n",
    "knn_model = GridSearchCV(knn,param_grid,cv=5)\n",
    "\n",
    "# Fit it to the data\n",
    "knn_model.fit(X_train, y_train)"
   ]
  },
  {
   "cell_type": "code",
   "execution_count": 72,
   "metadata": {},
   "outputs": [
    {
     "name": "stdout",
     "output_type": "stream",
     "text": [
      "Tuned Logistic Regression Parameters: {'algorithm': 'ball_tree', 'n_neighbors': 10, 'weights': 'uniform'}\n"
     ]
    }
   ],
   "source": [
    "# Print the tuned parameter and score\n",
    "print(\"Tuned Logistic Regression Parameters: {}\".format(knn_model.best_params_))"
   ]
  },
  {
   "cell_type": "code",
   "execution_count": 77,
   "metadata": {},
   "outputs": [
    {
     "name": "stdout",
     "output_type": "stream",
     "text": [
      "Accuracy using KNeighbors Classifier:  31.0 %\n",
      "             precision    recall  f1-score   support\n",
      "\n",
      "          0       0.34      0.42      0.38       160\n",
      "          1       0.26      0.20      0.23       163\n",
      "\n",
      "avg / total       0.30      0.31      0.30       323\n",
      "\n"
     ]
    }
   ],
   "source": [
    "y_pred = knn_model.predict(X_test)\n",
    "\n",
    "score = metrics.accuracy_score(y_test, y_pred) * 100\n",
    "print(\"Accuracy using KNeighbors Classifier: \", round(score, 1), \"%\")\n",
    "\n",
    "print(classification_report(y_test, y_pred))"
   ]
  },
  {
   "cell_type": "code",
   "execution_count": null,
   "metadata": {},
   "outputs": [],
   "source": []
  }
 ],
 "metadata": {
  "kernelspec": {
   "display_name": "Python 3",
   "language": "python",
   "name": "python3"
  },
  "language_info": {
   "codemirror_mode": {
    "name": "ipython",
    "version": 3
   },
   "file_extension": ".py",
   "mimetype": "text/x-python",
   "name": "python",
   "nbconvert_exporter": "python",
   "pygments_lexer": "ipython3",
   "version": "3.6.5"
  }
 },
 "nbformat": 4,
 "nbformat_minor": 2
}
