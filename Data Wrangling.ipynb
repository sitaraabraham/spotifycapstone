{
 "cells": [
  {
   "cell_type": "code",
   "execution_count": 108,
   "metadata": {},
   "outputs": [],
   "source": [
    "import spotipy\n",
    "from spotipy.oauth2 import SpotifyClientCredentials\n",
    "import spotipy.util as util"
   ]
  },
  {
   "cell_type": "markdown",
   "metadata": {},
   "source": [
    "These commands need to run in the command line:"
   ]
  },
  {
   "cell_type": "code",
   "execution_count": 109,
   "metadata": {},
   "outputs": [
    {
     "data": {
      "text/plain": [
       "\"\\nexport SPOTIPY_CLIENT_ID ='ac8bc9378a6c4029ade90be48171c12d'\\nexport SPOTIPY_CLIENT_SECRET ='4a207f7d9e3943fc8496fb03c4f02ab0'\\nexport SPOTIPY_REDIRECT_URI='http://localhost:8888'\\n\""
      ]
     },
     "execution_count": 109,
     "metadata": {},
     "output_type": "execute_result"
    }
   ],
   "source": [
    "'''\n",
    "export SPOTIPY_CLIENT_ID ='ac8bc9378a6c4029ade90be48171c12d'\n",
    "export SPOTIPY_CLIENT_SECRET ='4a207f7d9e3943fc8496fb03c4f02ab0'\n",
    "export SPOTIPY_REDIRECT_URI='http://localhost:8888'\n",
    "'''"
   ]
  },
  {
   "cell_type": "code",
   "execution_count": 110,
   "metadata": {},
   "outputs": [],
   "source": [
    "USERNAME = 'sitararachel' #your spotify username\n",
    "CLIENT_ID = 'ac8bc9378a6c4029ade90be48171c12d'#set at your developer account\n",
    "CLIENT_SECRET = '4a207f7d9e3943fc8496fb03c4f02ab0' #set at your developer account\n",
    "REDIRECT_URI = 'http://localhost:8888' #set at your developer account, usually \"http://localhost:8000\"\n",
    "SCOPE = 'playlist-modify-public' # or else"
   ]
  },
  {
   "cell_type": "code",
   "execution_count": 111,
   "metadata": {
    "scrolled": true
   },
   "outputs": [],
   "source": [
    "token = util.prompt_for_user_token(username = USERNAME, \n",
    "                                   scope = SCOPE, \n",
    "                                   client_id = CLIENT_ID, \n",
    "                                   client_secret = CLIENT_SECRET, \n",
    "                                   redirect_uri = REDIRECT_URI)\n",
    "\n",
    "if token:\n",
    "   sp = spotipy.Spotify(auth=token)\n",
    "   # dig your api\n"
   ]
  },
  {
   "cell_type": "markdown",
   "metadata": {},
   "source": [
    "## 2. Use a playlist with songs I already like"
   ]
  },
  {
   "cell_type": "code",
   "execution_count": 99,
   "metadata": {},
   "outputs": [],
   "source": [
    "source_user = 'yojabbanabba'\n",
    "source_playlist_id = '3g2vJU3kCwK9P6cZRxxdhp'"
   ]
  },
  {
   "cell_type": "code",
   "execution_count": 100,
   "metadata": {},
   "outputs": [],
   "source": [
    "sourcePlaylist = sp.user_playlist(source_user, source_playlist_id)"
   ]
  },
  {
   "cell_type": "code",
   "execution_count": 76,
   "metadata": {},
   "outputs": [
    {
     "data": {
      "text/plain": [
       "dict_keys(['collaborative', 'description', 'external_urls', 'followers', 'href', 'id', 'images', 'name', 'owner', 'primary_color', 'public', 'snapshot_id', 'tracks', 'type', 'uri'])"
      ]
     },
     "execution_count": 76,
     "metadata": {},
     "output_type": "execute_result"
    }
   ],
   "source": [
    "sourcePlaylist.keys()"
   ]
  },
  {
   "cell_type": "code",
   "execution_count": 31,
   "metadata": {},
   "outputs": [
    {
     "data": {
      "text/plain": [
       "dict_keys(['href', 'items', 'limit', 'next', 'offset', 'previous', 'total'])"
      ]
     },
     "execution_count": 31,
     "metadata": {},
     "output_type": "execute_result"
    }
   ],
   "source": [
    "sourcePlaylist['tracks'].keys()"
   ]
  },
  {
   "cell_type": "code",
   "execution_count": 44,
   "metadata": {},
   "outputs": [
    {
     "data": {
      "text/plain": [
       "dict_keys(['added_at', 'added_by', 'is_local', 'primary_color', 'track', 'video_thumbnail'])"
      ]
     },
     "execution_count": 44,
     "metadata": {},
     "output_type": "execute_result"
    }
   ],
   "source": [
    "sourcePlaylist['tracks']['items'][3].keys()"
   ]
  },
  {
   "cell_type": "code",
   "execution_count": 45,
   "metadata": {
    "scrolled": true
   },
   "outputs": [
    {
     "data": {
      "text/plain": [
       "dict_keys(['album', 'artists', 'available_markets', 'disc_number', 'duration_ms', 'episode', 'explicit', 'external_ids', 'external_urls', 'href', 'id', 'is_local', 'name', 'popularity', 'preview_url', 'track', 'track_number', 'type', 'uri'])"
      ]
     },
     "execution_count": 45,
     "metadata": {},
     "output_type": "execute_result"
    }
   ],
   "source": [
    "sourcePlaylist['tracks']['items'][3]['track'].keys()"
   ]
  },
  {
   "cell_type": "code",
   "execution_count": 101,
   "metadata": {},
   "outputs": [],
   "source": [
    "tracks = sourcePlaylist[\"tracks\"]\n",
    "songs = tracks[\"items\"] "
   ]
  },
  {
   "cell_type": "markdown",
   "metadata": {},
   "source": [
    "tracks is a dictionary of tracks metadata."
   ]
  },
  {
   "cell_type": "markdown",
   "metadata": {},
   "source": [
    "songs is a list of dictionaries with song metadata."
   ]
  },
  {
   "cell_type": "code",
   "execution_count": 87,
   "metadata": {},
   "outputs": [],
   "source": [
    "target_user = 'sitararachel'\n",
    "target_playlist_good = '6aNd523vJgC0I8SLvN7wID'"
   ]
  },
  {
   "cell_type": "code",
   "execution_count": 88,
   "metadata": {},
   "outputs": [],
   "source": [
    "while tracks['next']:\n",
    "    tracks = sp.next(tracks)\n",
    "    for item in tracks[\"items\"]:\n",
    "        songs.append(item)"
   ]
  },
  {
   "cell_type": "code",
   "execution_count": 89,
   "metadata": {},
   "outputs": [
    {
     "name": "stdout",
     "output_type": "stream",
     "text": [
      "720\n",
      "6iajHa34cSiD5s42Cq9miJ\n"
     ]
    }
   ],
   "source": [
    "ids = [] \n",
    "print(len(songs))\n",
    "print(songs[0]['track']['id'])\n",
    "i = 0\n",
    "for i in range(len(songs)):\n",
    "    sp.user_playlist_add_tracks(target_user, target_playlist_good, [songs[i][\"track\"][\"id\"]])"
   ]
  },
  {
   "cell_type": "code",
   "execution_count": 68,
   "metadata": {},
   "outputs": [
    {
     "data": {
      "text/plain": [
       "'6iajHa34cSiD5s42Cq9miJ'"
      ]
     },
     "execution_count": 68,
     "metadata": {},
     "output_type": "execute_result"
    }
   ],
   "source": [
    "source_user = 'yojabbanabba'\n",
    "source_playlist_id = '3g2vJU3kCwK9P6cZRxxdhp'"
   ]
  },
  {
   "cell_type": "code",
   "execution_count": 104,
   "metadata": {},
   "outputs": [],
   "source": [
    "playlists = [('sitararachel','6kRSiAQzP8MoI6ZAhSoUi0'),('Spotify','37i9dQZF1DX5kjCvsC5isB')]"
   ]
  },
  {
   "cell_type": "code",
   "execution_count": 112,
   "metadata": {},
   "outputs": [],
   "source": [
    "for p in playlists:\n",
    "    sourcePlaylist = sp.user_playlist(p[0], p[1])\n",
    "    \n",
    "    tracks = sourcePlaylist[\"tracks\"]\n",
    "    songs = tracks[\"items\"] \n",
    "    \n",
    "    while tracks['next']:\n",
    "        tracks = sp.next(tracks)\n",
    "        for item in tracks[\"items\"]:\n",
    "            songs.append(item)\n",
    "    i = 0\n",
    "    for i in range(len(songs)):\n",
    "        sp.user_playlist_add_tracks(target_user, target_playlist_good, [songs[i][\"track\"][\"id\"]])"
   ]
  },
  {
   "cell_type": "code",
   "execution_count": null,
   "metadata": {},
   "outputs": [],
   "source": []
  }
 ],
 "metadata": {
  "kernelspec": {
   "display_name": "Python 3",
   "language": "python",
   "name": "python3"
  },
  "language_info": {
   "codemirror_mode": {
    "name": "ipython",
    "version": 3
   },
   "file_extension": ".py",
   "mimetype": "text/x-python",
   "name": "python",
   "nbconvert_exporter": "python",
   "pygments_lexer": "ipython3",
   "version": "3.6.5"
  }
 },
 "nbformat": 4,
 "nbformat_minor": 2
}
